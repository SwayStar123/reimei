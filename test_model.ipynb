{
 "cells": [
  {
   "cell_type": "code",
   "execution_count": null,
   "metadata": {},
   "outputs": [],
   "source": [
    "import torch\n",
    "from tqdm.notebook import tqdm\n",
    "import numpy as np\n",
    "from transformer.reimei import ReiMei, ReiMeiParameters\n",
    "import matplotlib.pyplot as plt\n",
    "from config import AE_CHANNELS, DIT_S as DIT, MODELS_DIR_BASE, SIGLIP_HF_NAME, BERT_HF_NAME, SIGLIP_EMBED_DIM, BERT_EMBED_DIM\n",
    "from torch.amp import autocast\n",
    "from transformers import SiglipTokenizer, SiglipTextModel, AutoTokenizer, ModernBertModel\n",
    "from diffusers import AutoencoderDC"
   ]
  },
  {
   "cell_type": "code",
   "execution_count": 2,
   "metadata": {},
   "outputs": [],
   "source": [
    "device = \"cuda\" if torch.cuda.is_available() else \"cpu\""
   ]
  },
  {
   "cell_type": "code",
   "execution_count": null,
   "metadata": {},
   "outputs": [],
   "source": [
    "device"
   ]
  },
  {
   "cell_type": "code",
   "execution_count": 4,
   "metadata": {},
   "outputs": [],
   "source": [
    "# base_dim = 1024\n",
    "# base_heads = 32\n",
    "\n",
    "input_dim = AE_CHANNELS\n",
    "num_layers = 24\n",
    "embed_dim = 1152\n",
    "num_heads = embed_dim // 32\n",
    "mlp_dim = embed_dim\n",
    "num_experts = 64\n",
    "active_experts = 2.0\n",
    "shared_experts = 1\n",
    "token_mixer_layers = 2\n",
    "image_text_expert_ratio = 16\n",
    "dropout = 0.1\n",
    "\n",
    "# m_d = float(embed_dim) / float(base_dim)\n",
    "\n",
    "# assert (embed_dim // num_heads) == (base_dim // base_heads)\n",
    "\n",
    "params = ReiMeiParameters(\n",
    "    channels=input_dim,\n",
    "    embed_dim=embed_dim,\n",
    "    num_layers=num_layers,\n",
    "    num_heads=num_heads,\n",
    "    mlp_dim=mlp_dim,\n",
    "    siglip_dim=SIGLIP_EMBED_DIM,\n",
    "    bert_dim=BERT_EMBED_DIM,\n",
    "    num_experts=num_experts,\n",
    "    active_experts=active_experts,\n",
    "    shared_experts=shared_experts,\n",
    "    dropout=dropout,\n",
    "    token_mixer_layers=token_mixer_layers,\n",
    "    image_text_expert_ratio=image_text_expert_ratio,\n",
    "    # m_d=m_d,\n",
    ")\n",
    "DTYPE = torch.bfloat16"
   ]
  },
  {
   "cell_type": "code",
   "execution_count": 5,
   "metadata": {},
   "outputs": [],
   "source": [
    "model = ReiMei(params)\n",
    "# model.load_state_dict(torch.load(\"models/reimei_model_and_optimizer_epoch_40_f32.pt\")['ema_model_state_dict'])"
   ]
  },
  {
   "cell_type": "code",
   "execution_count": null,
   "metadata": {},
   "outputs": [],
   "source": [
    "# Print the number of parameters in the model\n",
    "print(\"Number of parameters in the model: \", sum(p.numel() for p in model.parameters()))\n"
   ]
  },
  {
   "cell_type": "code",
   "execution_count": 7,
   "metadata": {},
   "outputs": [],
   "source": [
    "siglip_model = SiglipTextModel.from_pretrained(SIGLIP_HF_NAME, cache_dir=f\"{MODELS_DIR_BASE}/siglip\").to(device)\n",
    "siglip_tokenizer = SiglipTokenizer.from_pretrained(SIGLIP_HF_NAME, cache_dir=f\"{MODELS_DIR_BASE}/siglip\")"
   ]
  },
  {
   "cell_type": "code",
   "execution_count": 8,
   "metadata": {},
   "outputs": [],
   "source": [
    "bert_model = ModernBertModel.from_pretrained(BERT_HF_NAME, cache_dir=f\"{MODELS_DIR_BASE}/modernbert\").to(device)\n",
    "bert_tokenizer = AutoTokenizer.from_pretrained(BERT_HF_NAME, cache_dir=f\"{MODELS_DIR_BASE}/modernbert\")"
   ]
  },
  {
   "cell_type": "code",
   "execution_count": 12,
   "metadata": {},
   "outputs": [],
   "source": [
    "padded_len = 64\n"
   ]
  },
  {
   "cell_type": "code",
   "execution_count": 13,
   "metadata": {},
   "outputs": [],
   "source": [
    "prompts = [\n",
    "    \"A group of people in traditional Indian attire gather around a table laden with food, blending traditional and modern elements in a casual and relaxed atmosphere.\" \n",
    "] * 1"
   ]
  },
  {
   "cell_type": "code",
   "execution_count": 14,
   "metadata": {},
   "outputs": [],
   "source": [
    "siglip_inputs = []\n",
    "unpadded_lens = []\n",
    "for prompt in prompts:\n",
    "    input = siglip_tokenizer.encode(prompt, return_tensors=\"pt\", padding=True).to(\"cuda\").squeeze()\n",
    "    unpadded_lens.append(input.shape[-1])\n",
    "    if input.shape[0] < padded_len:\n",
    "        padding = torch.zeros(padded_len - input.shape[0], dtype=input.dtype, device=input.device)\n",
    "        input = torch.cat([input, padding])\n",
    "    else:\n",
    "        input = input[:padded_len]\n",
    "    siglip_inputs.append(input)"
   ]
  },
  {
   "cell_type": "code",
   "execution_count": 15,
   "metadata": {},
   "outputs": [],
   "source": [
    "bert_inputs = []\n",
    "unpadded_lens = []\n",
    "for prompt in prompts:\n",
    "    input = bert_tokenizer.encode(\"[CLS]\"+prompt, return_tensors=\"pt\", padding=True).to(\"cuda\").squeeze()\n",
    "    unpadded_lens.append(input.shape[-1])\n",
    "    if input.shape[0] < 65:\n",
    "        padding = torch.ones(65 - input.shape[0], dtype=input.dtype, device=input.device)\n",
    "        input = torch.cat([input, padding])\n",
    "    else:\n",
    "        input = input[:65]\n",
    "    bert_inputs.append(input)"
   ]
  },
  {
   "cell_type": "code",
   "execution_count": 16,
   "metadata": {},
   "outputs": [],
   "source": [
    "siglip_inputs = torch.stack(siglip_inputs)"
   ]
  },
  {
   "cell_type": "code",
   "execution_count": 17,
   "metadata": {},
   "outputs": [],
   "source": [
    "bert_inputs = torch.stack(bert_inputs)"
   ]
  },
  {
   "cell_type": "code",
   "execution_count": 18,
   "metadata": {},
   "outputs": [],
   "source": [
    "siglip_outputs = siglip_model(siglip_inputs, output_hidden_states=True)\n",
    "siglip_embeddings = siglip_outputs.hidden_states[-1]\n",
    "siglip_vec = siglip_outputs.pooler_output"
   ]
  },
  {
   "cell_type": "code",
   "execution_count": 19,
   "metadata": {},
   "outputs": [],
   "source": [
    "bert_outputs = bert_model(bert_inputs, output_hidden_states=True).hidden_states[-1] # (bs, 65, 768). The 65 is CLS + 64 tokens. So we need to seperate the CLS token from the rest.\n",
    "bert_vec = bert_outputs[:, 0, :] # (bs, 1024)\n",
    "bert_embeddings = bert_outputs[:, 1:, :] # (bs, 64, 1024)"
   ]
  },
  {
   "cell_type": "code",
   "execution_count": null,
   "metadata": {},
   "outputs": [],
   "source": [
    "bert_embeddings.shape"
   ]
  },
  {
   "cell_type": "code",
   "execution_count": null,
   "metadata": {},
   "outputs": [],
   "source": [
    "siglip_embeddings.shape, "
   ]
  },
  {
   "cell_type": "code",
   "execution_count": 22,
   "metadata": {},
   "outputs": [],
   "source": [
    "del siglip_model, bert_model, siglip_tokenizer, bert_tokenizer"
   ]
  },
  {
   "cell_type": "code",
   "execution_count": 23,
   "metadata": {},
   "outputs": [],
   "source": [
    "noise = torch.randn(1, 32, 32, 32).to(device).to(torch.bfloat16)"
   ]
  },
  {
   "cell_type": "code",
   "execution_count": 24,
   "metadata": {},
   "outputs": [],
   "source": [
    "model = model.eval().to(device, dtype=torch.bfloat16)\n",
    "with autocast(\"cuda\", dtype=torch.bfloat16):\n",
    "    pred = model.sample(noise, siglip_embeddings, siglip_vec, bert_embeddings, bert_vec, sample_steps=50, cfg=7.0)\n",
    "    del model"
   ]
  },
  {
   "cell_type": "code",
   "execution_count": null,
   "metadata": {},
   "outputs": [],
   "source": [
    "vae = AutoencoderDC.from_pretrained(\"mit-han-lab/dc-ae-f32c32-in-1.0-diffusers\", torch_dtype=DTYPE, cache_dir=f\"{MODELS_DIR_BASE}/dc_ae\", revision=\"main\").to(device, ).eval()\n",
    "# print param count\n",
    "print(sum(p.numel() for p in vae.parameters()))"
   ]
  },
  {
   "cell_type": "code",
   "execution_count": 26,
   "metadata": {},
   "outputs": [],
   "source": [
    "# model = model.eval()\n",
    "with autocast(\"cuda\", dtype=torch.bfloat16):\n",
    "    # pred = model.sample(noise, siglip_embeddings, siglip_vec, bert_embeddings, bert_vec, sample_steps=50, cfg=7.0)\n",
    "\n",
    "    pred = vae.decode(pred).sample\n",
    "    # Change range of pred from x to y to -1 to 1\n",
    "    min_val = pred.min()\n",
    "    max_val = pred.max()\n",
    "\n",
    "    pred = (pred - min_val) / (max_val - min_val)\n",
    "    pred = 2 * pred - 1"
   ]
  },
  {
   "cell_type": "code",
   "execution_count": null,
   "metadata": {},
   "outputs": [],
   "source": [
    "with torch.inference_mode():\n",
    "    pred_cpu = pred.cpu().to(torch.float32)\n",
    "    pred_np = pred_cpu.permute(0, 2, 3, 1).numpy()\n",
    "    pred_np = (pred_np + 1) / 2\n",
    "    pred_np = (pred_np * 255).astype(np.uint8)  # Convert to uint8\n",
    "\n",
    "    # Create figure for predictions\n",
    "    fig_pred, axes_pred = plt.subplots(3, 3, figsize=(12, 12))  # 3 rows, 3 columns\n",
    "\n",
    "    # Plot predictions\n",
    "    for i, ax in enumerate(axes_pred.flatten()):\n",
    "        if i < pred_np.shape[0]:\n",
    "            ax.imshow(pred_np[i])\n",
    "            # ax.set_title(prompts[i])  # Add this line to set the title\n",
    "            ax.axis('off')\n",
    "        else:\n",
    "            ax.axis('off')\n",
    "    \n",
    "    plt.tight_layout()\n",
    "    plt.show()"
   ]
  }
 ],
 "metadata": {
  "kernelspec": {
   "display_name": "Python 3",
   "language": "python",
   "name": "python3"
  },
  "language_info": {
   "codemirror_mode": {
    "name": "ipython",
    "version": 3
   },
   "file_extension": ".py",
   "mimetype": "text/x-python",
   "name": "python",
   "nbconvert_exporter": "python",
   "pygments_lexer": "ipython3",
   "version": "3.12.4"
  }
 },
 "nbformat": 4,
 "nbformat_minor": 2
}
